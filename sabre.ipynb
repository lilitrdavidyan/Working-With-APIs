{
 "cells": [
  {
   "cell_type": "code",
   "execution_count": 1,
   "id": "80a936c7",
   "metadata": {},
   "outputs": [],
   "source": [
    "from amadeus import Client\n",
    "import spotipy\n",
    "import requests\n",
    "import time\n",
    "import json\n",
    "import pandas as pd\n",
    "import base64"
   ]
  },
  {
   "cell_type": "code",
   "execution_count": 2,
   "id": "3bc92eb1",
   "metadata": {},
   "outputs": [],
   "source": [
    "secrets_file = open(\"sabre-secrets.txt\",\"r\")"
   ]
  },
  {
   "cell_type": "code",
   "execution_count": 3,
   "id": "b88df2b4",
   "metadata": {},
   "outputs": [],
   "source": [
    "string = secrets_file.read()"
   ]
  },
  {
   "cell_type": "code",
   "execution_count": 4,
   "id": "60385aed",
   "metadata": {},
   "outputs": [],
   "source": [
    "secrets_dict={}\n",
    "lines = string.split('\\n')\n",
    "secrets_dict['user'] = lines[0]\n",
    "secrets_dict['key'] = lines[1]"
   ]
  },
  {
   "cell_type": "code",
   "execution_count": null,
   "id": "e89acffa",
   "metadata": {},
   "outputs": [],
   "source": []
  },
  {
   "cell_type": "code",
   "execution_count": 5,
   "id": "a7b712e0",
   "metadata": {},
   "outputs": [],
   "source": [
    "credentials = f\"{secrets_dict['user']}:{secrets_dict['key']}\"\n",
    "base64_credentials = base64.b64encode(credentials.encode('utf-8')).decode('utf-8')"
   ]
  },
  {
   "cell_type": "code",
   "execution_count": 6,
   "id": "54d7fbfa",
   "metadata": {},
   "outputs": [
    {
     "data": {
      "text/plain": [
       "'VjE6aDAza3NpMzhjbGF1cXZlZzpERVZDRU5URVI6RVhUOkN3bVM2bFY1'"
      ]
     },
     "execution_count": 6,
     "metadata": {},
     "output_type": "execute_result"
    }
   ],
   "source": [
    "base64_credentials"
   ]
  },
  {
   "cell_type": "code",
   "execution_count": 8,
   "id": "a3767000",
   "metadata": {},
   "outputs": [],
   "source": [
    "headers = {\n",
    "    'Authorization': f'Basic {base64_credentials}',\n",
    "    \"Content-Type\": \"application/x-www-form-urlencoded\"\n",
    "}"
   ]
  },
  {
   "cell_type": "code",
   "execution_count": 9,
   "id": "eb00f913",
   "metadata": {},
   "outputs": [],
   "source": [
    "data = {\n",
    "    'grant_type': 'client_credentials'\n",
    "}"
   ]
  },
  {
   "cell_type": "code",
   "execution_count": 10,
   "id": "3d3272ec",
   "metadata": {},
   "outputs": [],
   "source": [
    "response = requests.post('https://api-crt.cert.havail.sabre.com/v2/auth/token', headers=headers, data=data)\n",
    "token = response.json().get('access_token')\n"
   ]
  },
  {
   "cell_type": "code",
   "execution_count": 11,
   "id": "efd637c7",
   "metadata": {},
   "outputs": [
    {
     "data": {
      "text/plain": [
       "b'{\"error\":\"invalid_client\",\"error_description\":\"Credentials are missing or the syntax is not correct\"}'"
      ]
     },
     "execution_count": 11,
     "metadata": {},
     "output_type": "execute_result"
    }
   ],
   "source": [
    "response.content"
   ]
  },
  {
   "cell_type": "code",
   "execution_count": 12,
   "id": "072ef46d",
   "metadata": {},
   "outputs": [],
   "source": [
    "token"
   ]
  },
  {
   "cell_type": "code",
   "execution_count": 13,
   "id": "44c05e84",
   "metadata": {},
   "outputs": [],
   "source": [
    "headers = {\n",
    "    'Authorization': f'Bearer {token}',\n",
    "    'Content-Type': 'application/json'\n",
    "}"
   ]
  },
  {
   "cell_type": "code",
   "execution_count": 14,
   "id": "d682224d",
   "metadata": {},
   "outputs": [],
   "source": [
    "endpoint = 'https://api-crt.cert.havail.sabre.com/v4.0.0/shop/hotels'\n"
   ]
  },
  {
   "cell_type": "code",
   "execution_count": 15,
   "id": "3a214157",
   "metadata": {},
   "outputs": [],
   "source": [
    "payload = {\n",
    "    \"GetHotelAvailRQ\": {\n",
    "        \"SearchCriteria\": {\n",
    "            \"GeoSearch\": {\n",
    "                \"GeoRef\": {\n",
    "                    \"Radius\": 10,\n",
    "                    \"UOM\": \"MI\",\n",
    "                    \"RefPoint\": {\n",
    "                        \"Value\": \"TXL\",\n",
    "                        \"ValueContext\": \"CODE\",\n",
    "                        \"RefPointType\": \"6\"\n",
    "                    }\n",
    "                }\n",
    "            },\n",
    "            \"RateInfoRef\": {\n",
    "                \"StayDateRange\": {\n",
    "                    \"End\": \"2023-09-12\",\n",
    "                    \"Start\": \"2023-09-10\"\n",
    "                },\n",
    "                \"Rooms\": [\n",
    "                    {\n",
    "                        \"Index\": 1,\n",
    "                        \"Adults\": 2,\n",
    "                        \"Children\": 0\n",
    "                    }\n",
    "                ]\n",
    "            },\n",
    "            \"PrefCollections\": {\n",
    "                \"HotelPrefGroup\": {\n",
    "                    \"RefPointPrefs\": {\n",
    "                        \"RefPoint\": {\n",
    "                            \"Value\": \"TXL\",\n",
    "                            \"ValueContext\": \"CODE\",\n",
    "                            \"RefPointType\": \"6\"\n",
    "                        }\n",
    "                    }\n",
    "                }\n",
    "            }\n",
    "        }\n",
    "    }\n",
    "}\n"
   ]
  },
  {
   "cell_type": "code",
   "execution_count": 16,
   "id": "e8f486b0",
   "metadata": {},
   "outputs": [],
   "source": [
    "response = requests.post(endpoint, headers=headers, json=payload)\n",
    "hotels = response.json()"
   ]
  },
  {
   "cell_type": "code",
   "execution_count": 17,
   "id": "1617ce1f",
   "metadata": {},
   "outputs": [
    {
     "data": {
      "text/plain": [
       "{'status': 'NotProcessed',\n",
       " 'type': 'Validation',\n",
       " 'errorCode': 'ERR.2SG.SEC.INVALID_CREDENTIALS',\n",
       " 'timeStamp': '2023-09-06T23:27:52.256Z',\n",
       " 'message': 'Authentication failed due to invalid credentials'}"
      ]
     },
     "execution_count": 17,
     "metadata": {},
     "output_type": "execute_result"
    }
   ],
   "source": [
    "hotels"
   ]
  },
  {
   "cell_type": "code",
   "execution_count": null,
   "id": "7e8395cb",
   "metadata": {},
   "outputs": [],
   "source": []
  }
 ],
 "metadata": {
  "kernelspec": {
   "display_name": "Python 3 (ipykernel)",
   "language": "python",
   "name": "python3"
  },
  "language_info": {
   "codemirror_mode": {
    "name": "ipython",
    "version": 3
   },
   "file_extension": ".py",
   "mimetype": "text/x-python",
   "name": "python",
   "nbconvert_exporter": "python",
   "pygments_lexer": "ipython3",
   "version": "3.10.9"
  }
 },
 "nbformat": 4,
 "nbformat_minor": 5
}
